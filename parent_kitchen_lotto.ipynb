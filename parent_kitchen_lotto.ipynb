{
 "cells": [
  {
   "attachments": {},
   "cell_type": "markdown",
   "metadata": {},
   "source": [
    "Setup date range and weekdays"
   ]
  },
  {
   "cell_type": "code",
   "execution_count": null,
   "metadata": {},
   "outputs": [],
   "source": [
    "import random\n",
    "from datetime import datetime, timedelta, date\n",
    "import pandas as pd\n",
    "\n",
    "#Function to create date dataframe and add weekdays\n",
    "def TT_weekday_picker(start_date, end_date, desired_weekday, closed_dates):\n",
    "    s = pd.date_range(start_date, end_date, freq='D').to_series()\n",
    "    d = s.dt.day_name()\n",
    "\n",
    "    df = pd.DataFrame(data=d)\n",
    "    df = df.reset_index(level=0)\n",
    "    df.index = df.index + 1\n",
    "    df.rename(columns={'index':'date', 0: 'weekday'}, inplace = True)\n",
    "    #select specific weekday if desired & add dates to exclude\n",
    "    tt_df = df[df.weekday.isin(desired_weekday) & ~df.date.isin(closed_dates)]\n",
    "\n",
    "    return tt_df\n",
    "\n",
    "#Input desired date ranges and days\n",
    "first_day = '2023-08-01'\n",
    "last_day = '2023-12-21'\n",
    "working_days_of_week = ['Tuesday', 'Thursday']\n",
    "closed_days = ['2023-03-14', '2023-03-15', '2023-06-29', '2023-06-30']\n",
    "\n",
    "#call function\n",
    "tt_df = TT_weekday_picker(first_day, last_day, working_days_of_week, closed_days)\n"
   ]
  },
  {
   "attachments": {},
   "cell_type": "markdown",
   "metadata": {},
   "source": [
    "Select Tuesdays and Thursdays"
   ]
  },
  {
   "cell_type": "code",
   "execution_count": null,
   "metadata": {},
   "outputs": [],
   "source": [
    "#some stats\n",
    "index = tt_df.index\n",
    "number_of_rows = len(index)\n",
    "print(f\"The number of kitchen & cleaning days between {start_date} & {end_date} is {number_of_rows}\")\n"
   ]
  },
  {
   "cell_type": "code",
   "execution_count": null,
   "metadata": {},
   "outputs": [],
   "source": [
    "#rename df for function to come\n",
    "dates_data = tt_df.drop('weekday', axis=1, inplace=False)"
   ]
  },
  {
   "cell_type": "code",
   "execution_count": null,
   "metadata": {},
   "outputs": [],
   "source": [
    "import numpy as np\n",
    "\n",
    "# Sample data for debugging\n",
    "people_data = {\n",
    "    'person': [//insert]\n",
    "}\n",
    "\n",
    "#late_people_data = ['Person_14', 'Person_9', 'Person_6'] # Add the names you want to assign as later\n",
    "\n",
    "number_of_people = len(people)\n",
    "\n",
    "people = pd.DataFrame(people_data)\n",
    "late_people = pd.DataFrame(late_people_data)\n",
    "\n",
    "#stats\n",
    "print(f\"The number of people is {number_of_people}\")\n",
    "#print(len(dates_data))\n",
    "#print(len(dates_data) // len(people))"
   ]
  },
  {
   "cell_type": "code",
   "execution_count": null,
   "metadata": {},
   "outputs": [],
   "source": [
    "#function to evenly distribute each name to as many dates as needed\n",
    "def assign_people_to_dates(dates_df, people_df):\n",
    "    num_dates = len(dates_df)\n",
    "    num_people = len(people_df)\n",
    "    \n",
    "    # Calculate the number of people needed for each date (set to 1 in this case)\n",
    "    people_per_date = 1\n",
    "    total_people_needed = people_per_date * num_dates\n",
    "    \n",
    "    # Repeat the people list to match the total number of assignments\n",
    "    people_list = people_df['person'].tolist() * (total_people_needed // num_people)\n",
    "    remaining_people = total_people_needed % num_people\n",
    "    if remaining_people > 0:\n",
    "        people_list += people_df['person'].head(remaining_people).tolist()\n",
    "\n",
    "    # Create DataFrames for morning and evening assignments\n",
    "    dates_df['person_kitchen'] = np.array_split(people_list[:total_people_needed], num_dates)\n",
    "    dates_df['person_cleaning'] = np.array_split(people_list[:total_people_needed], num_dates)\n",
    "\n",
    "    # Concatenate morning and evening assignments\n",
    "    kitchen_df = dates_df[['date', 'person_kitchen']].explode('person_kitchen')\n",
    "    cleaning_df = dates_df[['date', 'person_cleaning']].explode('person_cleaning')\n",
    "\n",
    "      # Shuffle the 'Name' columns\n",
    "    kitchen_shuffle = np.random.permutation(kitchen_df['person_kitchen'])\n",
    "    kitchen_df['person_kitchen'] = kitchen_shuffle\n",
    "    cleaning_shuffle = np.random.permutation(cleaning_df['person_cleaning'])\n",
    "    cleaning_df['person_cleaning'] = cleaning_shuffle\n",
    "\n",
    "    # Combine morning and evening DataFrames and drop the intermediate columns\n",
    "    result_df = kitchen_df.merge(cleaning_df, on = 'date', how = 'inner')\n",
    "\n",
    "    return result_df\n",
    "\n",
    "# Call the function with your DataFrames\n",
    "assigned_df = assign_people_to_dates(dates_data, people)\n",
    "\n",
    "assigned_df"
   ]
  },
  {
   "cell_type": "code",
   "execution_count": null,
   "metadata": {},
   "outputs": [],
   "source": [
    "#verify counts\n",
    "result = assigned_df.groupby('person_kitchen').size().reset_index(name='count')\n",
    "result2 = assigned_df.groupby('person_cleaning').size().reset_index(name='count')\n",
    "\n",
    "print(result)\n",
    "print(result2)"
   ]
  },
  {
   "cell_type": "code",
   "execution_count": null,
   "metadata": {},
   "outputs": [],
   "source": [
    "#check how it looks in table\n",
    "\n",
    "assigned_df.to_csv('lottocheck.csv', index=False)\n"
   ]
  }
 ],
 "metadata": {
  "kernelspec": {
   "display_name": "Python 3",
   "language": "python",
   "name": "python3"
  },
  "language_info": {
   "codemirror_mode": {
    "name": "ipython",
    "version": 3
   },
   "file_extension": ".py",
   "mimetype": "text/x-python",
   "name": "python",
   "nbconvert_exporter": "python",
   "pygments_lexer": "ipython3",
   "version": "3.10.9"
  },
  "orig_nbformat": 4
 },
 "nbformat": 4,
 "nbformat_minor": 2
}
